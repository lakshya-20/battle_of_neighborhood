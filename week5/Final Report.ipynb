{
 "cells": [
  {
   "cell_type": "markdown",
   "metadata": {},
   "source": [
    "# Final Report | Capstone Project – The Battle of Neighborhoods"
   ]
  },
  {
   "cell_type": "markdown",
   "metadata": {},
   "source": [
    "## Introduction\n",
    "The purpose of this Project is to help people in exploring better facilities around their neighborhood. It will help people making smart and efficient decision on selecting great neighborhood out of numbers of other neighborhoods in city Toranto.\n",
    "The project aim is to group similar neighborhoods in to clusters and then get the mean rating of different categories from each cluster and comapre with ratings of other clusters. Which could in return can give us a fair idea about the standards of different facility in different clusters.\n",
    "It will help people to get awareness of the area and neighborhood before moving to a new city, state, country or place for their work or to start a new fresh life\n",
    "<hr>"
   ]
  },
  {
   "cell_type": "markdown",
   "metadata": {},
   "source": [
    "## Data Description\n",
    "The city Toronto is widely populated city in Canada, having wide range of venues of various categories across the city. As per our analysis we require data for every venue in the city, and we can easily get that using the Foursquare API but for that we need to have the postal codes of Toronto which are easily availabel at https://en.wikipedia.org/wiki/List_of_postal_codes_of_Canada:_M\n",
    "\n",
    "### Data Gathering\n",
    "Postal Codes of different neighborhoods in the city\n",
    "All the postal codes of toronto are easily available at https://en.wikipedia.org/wiki/List_of_postal_codes_of_Canada:_M which we can get doing web scraping by using libraies such as BeutifulSoup or pandas.\n",
    "\n",
    "Details of venues in the different neighborhoods\n",
    "We need details about different venues in different eighborhoods of the city Toronto. For that we will use Foursquare Api. The Foursquare Places API provides location based experiences with diverse information about venues, users, photos, and check-ins. The API supports real time access to places, Snap-to-Place that assigns users to specific locations, and Geo-tag. Additionally, Foursquare allows developers to build audience segments for analysis and measurement. JSON is the preferred response format.\n",
    "\n",
    "As per analysis we will fetch atmax 100 venues in a neighborhood within the range of 500 meters.\n",
    "\n",
    "### Sample Data\n",
    "https://github.com/prog-hammer/Coursera_Capstone/blob/master/assets/sample_week4.JPG\n",
    "\n",
    "<hr>"
   ]
  },
  {
   "cell_type": "markdown",
   "metadata": {},
   "source": [
    "## Methodology Section\n",
    "\n",
    "### Clustering Approach:\n",
    "To compare the similarities of two cities, we decided to explore neighborhoods, segment them, and group them into clusters to find similar neighborhoods in a big city like New York and Toronto. To be able to do that, we need to cluster data which is a form of unsupervised machine learning: k-means clustering algorithm.\n",
    "\n",
    "### Using K-Means Clustering Approach\n",
    "\n",
    "https://github.com/prog-hammer/Coursera_Capstone/blob/master/assets/kMeans_clustering.JPG\n",
    "\n",
    "### Most Common venues near Neighborhood\n",
    "\n",
    "https://github.com/prog-hammer/Coursera_Capstone/blob/master/assets/commonVenues_neighborhood.JPG\n",
    "\n",
    "### Work Flow:\n",
    "Using credentials of Foursquare API features of near-by places of the neighborhoods would be mined. Due to http request limitations the number of places per neighborhood parameter would reasonably be set to 100 and the radius parameter would be set to 500.\n",
    "\n",
    "<hr>"
   ]
  },
  {
   "cell_type": "markdown",
   "metadata": {},
   "source": [
    "## Results Section \n",
    "\n",
    "### Map of Clusters in Toronto\n",
    "\n",
    "https://github.com/prog-hammer/Coursera_Capstone/blob/master/assets/result.JPG\n",
    "\n",
    "### The Location:\n",
    "Toronto is a popular destination for new immigrants in Canada to reside. As a result, it is one of the most diverse and multicultural areas in the Canada, being home to various religious groups and places of worship. Although immigration has become a hot topic over the past few years with more governments seeking more restrictions on immigrants and refugees, the general trend of immigration into Canada has been one of on the rise.\n",
    "\n",
    "Foursquare API:\n",
    "This project have used Four-square API as its prime data gathering source as it has a database of millions of places, especially their places API which provides the ability to perform location search, location sharing and details about a business.\n",
    "\n",
    "<hr>"
   ]
  },
  {
   "cell_type": "markdown",
   "metadata": {},
   "source": [
    "## Discussion Section\n",
    "### Problem Which Tried to Solve:\n",
    "The major purpose of this project, is to suggest a better neighborhood in a new city for the person who are shiffting there. Social presence in society in terms of like minded people. Connectivity to the airport, bus stand, city center, markets and other daily needs things nearby.\n",
    "\n",
    "<hr>"
   ]
  },
  {
   "cell_type": "markdown",
   "metadata": {},
   "source": [
    "# Conclusion Section\n",
    "In this project, using k-means cluster algorithm I separated the neighborhood into 8 different clusters, which have very-similar neighborhoods around them.\n",
    "\n",
    "I feel rewarded with the efforts and believe this course with all the topics covered is well worthy of appreciation. This project has shown me a practical application to resolve a real situation that has impacting personal and financial impact using Data Science tools. The mapping with Folium is a very powerful technique to consolidate information and make the analysis and decision better with confidence."
   ]
  }
 ],
 "metadata": {
  "kernelspec": {
   "display_name": "Python 3",
   "language": "python",
   "name": "python3"
  },
  "language_info": {
   "codemirror_mode": {
    "name": "ipython",
    "version": 3
   },
   "file_extension": ".py",
   "mimetype": "text/x-python",
   "name": "python",
   "nbconvert_exporter": "python",
   "pygments_lexer": "ipython3",
   "version": "3.7.1"
  }
 },
 "nbformat": 4,
 "nbformat_minor": 2
}
